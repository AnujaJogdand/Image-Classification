{
  "nbformat": 4,
  "nbformat_minor": 0,
  "metadata": {
    "colab": {
      "name": "Image Classification.ipynb",
      "provenance": [],
      "collapsed_sections": []
    },
    "kernelspec": {
      "name": "python3",
      "display_name": "Python 3"
    },
    "language_info": {
      "name": "python"
    }
  },
  "cells": [
    {
      "cell_type": "code",
      "execution_count": 4,
      "metadata": {
        "id": "6lJFnq9Eadnr"
      },
      "outputs": [],
      "source": [
        "# Data : Using python libraries to scrap images"
      ]
    },
    {
      "cell_type": "code",
      "source": [
        "!pip install bing-image-downloader"
      ],
      "metadata": {
        "colab": {
          "base_uri": "https://localhost:8080/"
        },
        "id": "lo7NBoFPnok4",
        "outputId": "4c203d6a-8481-498e-e5bf-d8839f76c8b6"
      },
      "execution_count": 5,
      "outputs": [
        {
          "output_type": "stream",
          "name": "stdout",
          "text": [
            "Collecting bing-image-downloader\n",
            "  Downloading bing_image_downloader-1.1.2-py3-none-any.whl (5.9 kB)\n",
            "Installing collected packages: bing-image-downloader\n",
            "Successfully installed bing-image-downloader-1.1.2\n"
          ]
        }
      ]
    },
    {
      "cell_type": "code",
      "source": [
        "!mkdir images"
      ],
      "metadata": {
        "id": "NujV3x8rnx_S"
      },
      "execution_count": 6,
      "outputs": []
    },
    {
      "cell_type": "code",
      "source": [
        "from bing_image_downloader import downloader\n",
        "downloader.download(\"Pretty Sunflower\",limit=30,output_dir=\"images\",adult_filter_off=True)"
      ],
      "metadata": {
        "colab": {
          "base_uri": "https://localhost:8080/"
        },
        "id": "Xpis3iCcn-k5",
        "outputId": "c782e030-257f-45b2-fb0a-f3daf1448acf"
      },
      "execution_count": 7,
      "outputs": [
        {
          "output_type": "stream",
          "name": "stdout",
          "text": [
            "[%] Downloading Images to /content/images/Pretty Sunflower\n",
            "\n",
            "\n",
            "[!!]Indexing page: 1\n",
            "\n",
            "[%] Indexed 30 Images on Page 1.\n",
            "\n",
            "===============================================\n",
            "\n",
            "[%] Downloading Image #1 from https://www.10wallpaper.com/wallpaper/2560x1440/1802/Pretty_sunflower_flowers_plant_closeup_2560x1440.jpg\n",
            "[%] File Downloaded !\n",
            "\n",
            "[%] Downloading Image #2 from https://i.pinimg.com/originals/70/28/15/7028151ff5ce9777b8105ee3acfe2522.jpg\n",
            "[%] File Downloaded !\n",
            "\n",
            "[%] Downloading Image #3 from https://preppywallpapers.com/wp-content/uploads/2019/08/Sunflower-iPhone-Wallpapers.jpg\n",
            "[%] File Downloaded !\n",
            "\n",
            "[%] Downloading Image #4 from https://i0.wp.com/texdr.wordpress.com/files/2009/07/wpid1250-img_4975.jpg\n",
            "[%] File Downloaded !\n",
            "\n",
            "[%] Downloading Image #5 from https://i.pinimg.com/originals/dd/85/81/dd8581bedcebc7d2ac327d439d792dbd.jpg\n",
            "[%] File Downloaded !\n",
            "\n",
            "[%] Downloading Image #6 from https://i.pinimg.com/originals/b9/38/b8/b938b8b361e2a573bbeee2d75799c647.jpg\n",
            "[%] File Downloaded !\n",
            "\n",
            "[%] Downloading Image #7 from https://i.pinimg.com/originals/0b/ed/24/0bed24b65ae57cd703dc7a9190d6d29f.jpg\n",
            "[%] File Downloaded !\n",
            "\n",
            "[%] Downloading Image #8 from https://i.pinimg.com/originals/9c/02/5b/9c025b5c0a26aff3da57515b357493c8.jpg\n",
            "[%] File Downloaded !\n",
            "\n",
            "[%] Downloading Image #9 from http://wallpapercave.com/wp/0qghkct.jpg\n",
            "[%] File Downloaded !\n",
            "\n",
            "[%] Downloading Image #10 from https://i.pinimg.com/originals/ca/38/d2/ca38d254b1ef1b98be9ebb2d743a1319.jpg\n",
            "[%] File Downloaded !\n",
            "\n",
            "[%] Downloading Image #11 from https://www.wallpapers13.com/wp-content/uploads/2015/12/Sunflower-Field-Wallpaper-Beautiful-Flowers-Pictures-Sunflower-Field-Wallpaper.jpg\n",
            "[%] File Downloaded !\n",
            "\n",
            "[%] Downloading Image #12 from http://garden.org/pics/2013-12-19/Newyorkrita/38d0cc.jpg\n",
            "[%] File Downloaded !\n",
            "\n",
            "[%] Downloading Image #13 from https://i.pinimg.com/originals/6b/83/9d/6b839df2b06a8fa80f478ecdc01753ad.jpg\n",
            "[%] File Downloaded !\n",
            "\n",
            "[%] Downloading Image #14 from https://i.pinimg.com/originals/36/fb/99/36fb9933d56e37883d0e49ace2b2199e.jpg\n",
            "[%] File Downloaded !\n",
            "\n",
            "[%] Downloading Image #15 from https://i.pinimg.com/736x/5b/99/17/5b99176b53e46d8d932a81d55a2df17d.jpg\n",
            "[%] File Downloaded !\n",
            "\n",
            "[%] Downloading Image #16 from http://4.bp.blogspot.com/-EvQYk5Z2ISQ/TV1Y6C9VAlI/AAAAAAAAADA/0PviOUYUjU8/s1600/Sunflower.jpg\n",
            "[%] File Downloaded !\n",
            "\n",
            "[%] Downloading Image #17 from http://getwallpapers.com/wallpaper/full/3/0/0/820319-download-sunflowers-wallpaper-2048x1361-lockscreen.jpg\n",
            "[%] File Downloaded !\n",
            "\n",
            "[%] Downloading Image #18 from http://4.bp.blogspot.com/-Uh1HTy66p7I/TkY6vYCvWjI/AAAAAAAAD0c/ny_MXcFowLE/s1600/sunflower_wallpaper_2069.JPG\n",
            "[%] File Downloaded !\n",
            "\n",
            "[%] Downloading Image #19 from https://i.pinimg.com/originals/02/8a/40/028a408660c210f1ee5c6f2a5103cfee.jpg\n",
            "[%] File Downloaded !\n",
            "\n",
            "[%] Downloading Image #20 from http://wallsdesk.com/wp-content/uploads/2017/01/Pictures-of-Sunflower-.jpg\n",
            "[%] File Downloaded !\n",
            "\n",
            "[%] Downloading Image #21 from http://4.bp.blogspot.com/_W5lGWFz2VV4/TK5PqUu-ZTI/AAAAAAAAA-Q/rQXb9VnKUDc/s1600/_MG_3422+copy.jpg\n",
            "[%] File Downloaded !\n",
            "\n",
            "[%] Downloading Image #22 from https://2.bp.blogspot.com/-gp5l_cXzcaI/VbYimyMdEYI/AAAAAAAACLI/2-WKqRiWm30/s1600/sunflowers%2BGermany.jpg\n",
            "[%] File Downloaded !\n",
            "\n",
            "[%] Downloading Image #23 from https://i.pinimg.com/originals/fc/5d/81/fc5d81e394d89715a96c31d279b8fa16.jpg\n",
            "[%] File Downloaded !\n",
            "\n",
            "[%] Downloading Image #24 from https://i.pinimg.com/originals/f7/64/cf/f764cf8f1a493706b4f508fb7dc7b20e.jpg\n",
            "[%] File Downloaded !\n",
            "\n",
            "[%] Downloading Image #25 from https://i.pinimg.com/736x/23/69/63/23696333831560e5a3853af4d191ff6b--pretty-flowers-sunflowers.jpg\n",
            "[%] File Downloaded !\n",
            "\n",
            "[%] Downloading Image #26 from http://getwallpapers.com/wallpaper/full/3/9/a/820263-most-popular-sunflowers-wallpaper-1080x1920-windows.jpg\n",
            "[%] File Downloaded !\n",
            "\n",
            "[%] Downloading Image #27 from https://preppywallpapers.com/wp-content/uploads/2019/08/Sunflower-iPhone-Wallpaper-6.jpg\n",
            "[%] File Downloaded !\n",
            "\n",
            "[%] Downloading Image #28 from https://i.pinimg.com/originals/bc/f7/52/bcf752b5a8b3af49039c9c10e820cbc4.jpg\n",
            "[%] File Downloaded !\n",
            "\n",
            "[%] Downloading Image #29 from https://live.staticflickr.com/6006/5974884640_c7d6de5dff_b.jpg\n",
            "[%] File Downloaded !\n",
            "\n",
            "[%] Downloading Image #30 from http://1.bp.blogspot.com/-xIkAesKxBLA/TkY6hunS5II/AAAAAAAAD0I/S7uVZX1qf-4/s1600/sunflower_wallpaper_2064.jpg\n",
            "[%] File Downloaded !\n",
            "\n",
            "\n",
            "\n",
            "[%] Done. Downloaded 30 images.\n"
          ]
        }
      ]
    },
    {
      "cell_type": "code",
      "source": [
        "downloader.download(\"Bikes\",limit=30,output_dir=\"images\",adult_filter_off=True)"
      ],
      "metadata": {
        "colab": {
          "base_uri": "https://localhost:8080/"
        },
        "id": "V94j9vzQp-nM",
        "outputId": "445e7daf-28ae-4825-a5cf-c8ee58056e62"
      },
      "execution_count": 34,
      "outputs": [
        {
          "output_type": "stream",
          "name": "stdout",
          "text": [
            "[%] Downloading Images to /content/images/Bikes\n",
            "\n",
            "\n",
            "[!!]Indexing page: 1\n",
            "\n",
            "[%] Indexed 30 Images on Page 1.\n",
            "\n",
            "===============================================\n",
            "\n",
            "[%] Downloading Image #1 from https://p.vitalmtb.com/photos/users/26896/setup_checks/31286/photos/56839/original_DSC_0004.jpg?1469036914\n",
            "[%] File Downloaded !\n",
            "\n",
            "[%] Downloading Image #2 from https://thenewswheel.com/wp-content/uploads/2014/03/kia_electric_bike_2014.jpg\n",
            "[%] File Downloaded !\n",
            "\n",
            "[%] Downloading Image #3 from https://www.fullycharged.com/newsandreviews/wp-content/uploads/2016/05/Brinco-R.jpg\n",
            "[%] File Downloaded !\n",
            "\n",
            "[%] Downloading Image #4 from https://i2.wp.com/www.electricbike.com/wp-content/uploads/2016/09/apex4.jpg?fit=1200%2C858&amp;ssl=1\n",
            "[%] File Downloaded !\n",
            "\n",
            "[%] Downloading Image #5 from https://p.vitalmtb.com/photos/users/44124/setup_checks/34305/photos/66328/original_Sp_Olivier_VIPBIKES_76_Modifier.jpg?1491465575\n",
            "[%] File Downloaded !\n",
            "\n",
            "[%] Downloading Image #6 from http://www.bikepacking.com/wp-content/uploads/2018/06/All-City-Gorilla-Monsoon-Review_5.jpg\n",
            "[%] File Downloaded !\n",
            "\n",
            "[%] Downloading Image #7 from https://www.bicycleretailer.com/sites/default/files/images/article/xso1dlvs.jpeg\n",
            "[%] File Downloaded !\n",
            "\n",
            "[%] Downloading Image #8 from https://www.bicycleretailer.com/sites/default/files/images/article/_jmv3886-edit_0.jpg\n",
            "[%] File Downloaded !\n",
            "\n",
            "[%] Downloading Image #9 from https://electricbikeaction.com/wp-content/uploads/2016/01/IMG_1769.jpg\n",
            "[%] File Downloaded !\n",
            "\n",
            "[%] Downloading Image #10 from https://i.nextmedia.com.au/Videos/AMB185-TrekSlashWEB-22.jpg\n",
            "[%] File Downloaded !\n",
            "\n",
            "[%] Downloading Image #11 from https://cdn1.cyclist.co.uk/sites/cyclist/files/2020/08/e-gravel_supplement_4_trek_1.jpg\n",
            "[%] File Downloaded !\n",
            "\n",
            "[%] Downloading Image #12 from https://ww1.prweb.com/prfiles/2012/12/19/10259496/IMG_9138J.jpg\n",
            "[%] File Downloaded !\n",
            "\n",
            "[%] Downloading Image #13 from https://i5.walmartimages.com/asr/6faf5e8f-d24c-41af-83f5-5d2cbcda4554_2.75e8087d1015297b80352b60c4d0350d.jpeg\n",
            "[%] File Downloaded !\n",
            "\n",
            "[%] Downloading Image #14 from https://p.vitalmtb.com/photos/users/43730/setup_checks/33909/photos/64253/original_DSC_1382.JPG?1486868555\n",
            "[%] File Downloaded !\n",
            "\n",
            "[%] Downloading Image #15 from https://p.vitalmtb.com/photos/users/14800/setup_checks/28381/photos/36465/original_DSC2742.jpg?1425807230\n",
            "[%] File Downloaded !\n",
            "\n",
            "[%] Downloading Image #16 from https://www.nsbikes.com/2014/images/galerie/334-2220.jpg\n",
            "[%] File Downloaded !\n",
            "\n",
            "[%] Downloading Image #17 from https://cdn.road.cc/sites/default/files/lapierre-2017-2.jpg\n",
            "[%] File Downloaded !\n",
            "\n",
            "[%] Downloading Image #18 from https://www.cyclesuperstore.ie/shop/pc/catalog/large/C61201M10LG-2.jpg\n",
            "[%] File Downloaded !\n",
            "\n",
            "[%] Downloading Image #19 from https://images.immediate.co.uk/production/volatile/sites/21/2019/03/brompton-s2l-1486566771071-18ckxfzbreg2m-a4b865d-e1569507869136.jpg?quality=45&amp;resize=3847,2564\n",
            "[%] File Downloaded !\n",
            "\n",
            "[%] Downloading Image #20 from https://roadbikeaction.com/wp-content/uploads/2020/12/BICI_BIANCHI_GREEN_EDGE_NEW2-scaled.jpg\n",
            "[%] File Downloaded !\n",
            "\n",
            "[%] Downloading Image #21 from https://p.vitalmtb.com/photos/users/109/photos/96964/original_BT_20150828_untitled_shoot_169.jpg?1441058478\n",
            "[%] File Downloaded !\n",
            "\n",
            "[%] Downloading Image #22 from https://urbanbike.news/wp-content/uploads/2020/09/Canyon-Commuter-ON-Urban-Bike-2021-Trapez.jpg\n",
            "[%] File Downloaded !\n",
            "\n",
            "[%] Downloading Image #23 from https://p.vitalmtb.com/photos/users/109/photos/89753/original_BT_20150419_untitled_shoot_034.jpg?1429671493\n",
            "[%] File Downloaded !\n",
            "\n",
            "[%] Downloading Image #24 from https://keyassets.timeincuk.net/inspirewp/live/wp-content/uploads/sites/2/2018/02/ultra-900-aluminium-frame-road-bike-black-grey-yellow-1.jpg\n",
            "[%] File Downloaded !\n",
            "\n",
            "[%] Downloading Image #25 from https://p.vitalmtb.com/photos/users/2/photos/70170/original_Yeti_SB75_2.jpg?1389588650\n",
            "[%] File Downloaded !\n",
            "\n",
            "[%] Downloading Image #26 from https://www.cyclestore.co.uk/images/products/xtra/75683.jpg\n",
            "[%] File Downloaded !\n",
            "\n",
            "[%] Downloading Image #27 from http://cdn0.wideopenspaces.com/wp-content/uploads/2016/01/rambo-bikes-1.jpg\n",
            "[%] File Downloaded !\n",
            "\n",
            "[%] Downloading Image #28 from https://p.vitalmtb.com/photos/users/109/photos/96935/original_BT_20150828_untitled_shoot_188.jpg?1441058092\n",
            "[%] File Downloaded !\n",
            "\n",
            "[%] Downloading Image #29 from https://cdn1.cyclist.co.uk/sites/cyclist/files/2019/10/trek_domane_slr_9_review_07.jpg\n",
            "[%] File Downloaded !\n",
            "\n",
            "[%] Downloading Image #30 from https://coresites-cdn-adm.imgix.net/dirt_new/wp-content/uploads/2016/06/bmc8.jpg?fit=crop\n",
            "[%] File Downloaded !\n",
            "\n",
            "\n",
            "\n",
            "[%] Done. Downloaded 30 images.\n"
          ]
        }
      ]
    },
    {
      "cell_type": "code",
      "source": [
        "downloader.download(\"Roses\",limit=30,output_dir=\"images\",adult_filter_off=True)"
      ],
      "metadata": {
        "colab": {
          "base_uri": "https://localhost:8080/"
        },
        "id": "oA6IoyWeAUKX",
        "outputId": "16b17983-e51d-4893-f06d-a801641d22ac"
      },
      "execution_count": 49,
      "outputs": [
        {
          "output_type": "stream",
          "name": "stdout",
          "text": [
            "[%] Downloading Images to /content/images/Roses\n",
            "\n",
            "\n",
            "[!!]Indexing page: 1\n",
            "\n",
            "[%] Indexed 30 Images on Page 1.\n",
            "\n",
            "===============================================\n",
            "\n",
            "[%] Downloading Image #1 from https://static01.nyt.com/images/2021/02/21/realestate/17garden1/17garden1-videoSixteenByNine3000-v2.jpg\n",
            "[%] File Downloaded !\n",
            "\n",
            "[%] Downloading Image #2 from https://extension.msstate.edu/sites/default/files/sg20140428_hybrid_300.jpg\n",
            "[%] File Downloaded !\n",
            "\n",
            "[%] Downloading Image #3 from https://www.buncombemastergardener.org/wp-content/uploads/2016/05/Roses_Tiffany_HybridTea_DiseaseResistant.jpg\n",
            "[%] File Downloaded !\n",
            "\n",
            "[%] Downloading Image #4 from https://i.pinimg.com/originals/2b/53/48/2b5348e8715afb577e401d9afdcfac6f.jpg\n",
            "[%] File Downloaded !\n",
            "\n",
            "[%] Downloading Image #5 from https://3.bp.blogspot.com/-L56PiGYzfeE/Ul0_0-Tg94I/AAAAAAAAKYE/k5yUxedd1M0/s1600/first+spring+roses+015.JPG\n",
            "[%] File Downloaded !\n",
            "\n",
            "[%] Downloading Image #6 from https://asset.bloomnation.com/c_limit,d_vendor:global:catalog:product:image.png,f_auto,fl_preserve_transparency,q_auto/v1617255380/vendor/2183/catalog/product/2/0/20180116075731_file_5a5db06bce94e.jpg\n",
            "[%] File Downloaded !\n",
            "\n",
            "[%] Downloading Image #7 from https://www.daltons.co.nz/sites/default/files/2018-03/white_rose_shrub_is182811855xl.jpg\n",
            "[%] File Downloaded !\n",
            "\n",
            "[%] Downloading Image #8 from https://3.bp.blogspot.com/-41VpzK8wwqk/UgcsFRCmHBI/AAAAAAAAF7s/6scxuxWT3qE/s1600/DSC02428.JPG\n",
            "[%] File Downloaded !\n",
            "\n",
            "[%] Downloading Image #9 from https://www.lush-gardens.com/images/pink-rose.jpg\n",
            "[%] File Downloaded !\n",
            "\n",
            "[%] Downloading Image #10 from https://pixnio.com/free-images/2019/06/19/2019-06-19-15-09-20.jpg\n",
            "[%] File Downloaded !\n",
            "\n",
            "[%] Downloading Image #11 from https://i0.wp.com/thedreameryevents.com/wp-content/uploads/2015/08/img_9427.jpg\n",
            "[%] File Downloaded !\n",
            "\n",
            "[%] Downloading Image #12 from https://i1.wp.com/thedreameryevents.com/wp-content/uploads/2015/08/img_7305.jpg\n",
            "[%] File Downloaded !\n",
            "\n",
            "[%] Downloading Image #13 from http://3.bp.blogspot.com/_--d1e5zq540/TAgss2td1gI/AAAAAAAAAdI/l5i2CMegMF4/s1600/013.JPG\n",
            "[%] File Downloaded !\n",
            "\n",
            "[%] Downloading Image #14 from http://rankinsroses.com.au/wp-content/uploads/2019/01/best.jpg\n",
            "[%] File Downloaded !\n",
            "\n",
            "[%] Downloading Image #15 from http://3.bp.blogspot.com/-bTOiNZq9R-U/TvhyCrmWZJI/AAAAAAAAA-Y/rTBqsWS22i8/s1600/roses_48.jpg\n",
            "[%] File Downloaded !\n",
            "\n",
            "[%] Downloading Image #16 from https://randburgsun.co.za/wp-content/uploads/sites/9/2020/11/james-butterly-mtAcUXbo9Cs-unsplash.jpg\n",
            "[%] File Downloaded !\n",
            "\n",
            "[%] Downloading Image #17 from http://www.theenglishgarden.co.uk/wp-content/uploads/2014/12/Bonica-B.jpg\n",
            "[%] File Downloaded !\n",
            "\n",
            "[%] Downloading Image #18 from http://enablelc.org/wp-content/uploads/2017/01/BS-Yellow-rose.jpg\n",
            "[%] File Downloaded !\n",
            "\n",
            "[%] Downloading Image #19 from https://www.auctiondirectflowers.co.uk/wp-content/uploads/2020/09/IMG_6239a.jpg\n",
            "[%] File Downloaded !\n",
            "\n",
            "[%] Downloading Image #20 from https://i0.wp.com/homegardenjoy.com/site/wp-content/uploads/2017/01/David_Austin_Rose_The_Ancient_Mariner_B-28A-09M_HR0060.jpg?fit=1000%2C1504&amp;ssl=1\n",
            "[%] File Downloaded !\n",
            "\n",
            "[%] Downloading Image #21 from https://image.floranext.com/instances/shop_rosarium_ca/catalog/product/i/m/img_0283_1.jpg?gen=1\n",
            "[Error]Invalid image, not saving https://image.floranext.com/instances/shop_rosarium_ca/catalog/product/i/m/img_0283_1.jpg?gen=1\n",
            "\n",
            "[!] Issue getting: https://image.floranext.com/instances/shop_rosarium_ca/catalog/product/i/m/img_0283_1.jpg?gen=1\n",
            "[!] Error:: Invalid image, not saving https://image.floranext.com/instances/shop_rosarium_ca/catalog/product/i/m/img_0283_1.jpg?gen=1\n",
            "\n",
            "[%] Downloading Image #21 from https://www.buncombemastergardener.org/wp-content/uploads/2016/05/Roses_DollyParton_HybridTea_2.jpg\n",
            "[%] File Downloaded !\n",
            "\n",
            "[%] Downloading Image #22 from http://keyassets.timeincuk.net/inspirewp/live/wp-content/uploads/sites/16/2013/06/Louise_Odier_15.jpg\n",
            "[%] File Downloaded !\n",
            "\n",
            "[%] Downloading Image #23 from https://i2.wp.com/thedreameryevents.com/wp-content/uploads/2015/08/img_7321.jpg\n",
            "[%] File Downloaded !\n",
            "\n",
            "[%] Downloading Image #24 from https://www.boethingtreeland.com/wp-content/uploads/2018/08/hybrid-tea-roses.jpg\n",
            "[%] File Downloaded !\n",
            "\n",
            "[%] Downloading Image #25 from https://img.sunset02.com/sites/default/files/image/2016/07/main/roses-ss5.jpg\n",
            "[%] File Downloaded !\n",
            "\n",
            "[%] Downloading Image #26 from https://4.bp.blogspot.com/-8k2XnptDeY4/Ul0-arL39LI/AAAAAAAAKXo/zlsuXWW9oig/s1600/first+spring+roses+011.JPG\n",
            "[%] File Downloaded !\n",
            "\n",
            "[%] Downloading Image #27 from https://i2.wp.com/plantsomethingoregon.com/wp-content/uploads/2016/06/miniature-roses-201606.jpg?fit=1200%2C900\n",
            "[%] File Downloaded !\n",
            "\n",
            "[%] Downloading Image #28 from https://i5.walmartimages.com/asr/5dfc7d62-e68c-4709-a45c-548dfbc5d2e6.b6ee79e992b6b6fd83d2487e1c5e22be.jpeg\n",
            "[%] File Downloaded !\n",
            "\n",
            "[%] Downloading Image #29 from https://www.boethingtreeland.com/wp-content/uploads/2018/02/patio-tree-roses.jpg\n",
            "[%] File Downloaded !\n",
            "\n",
            "\n",
            "\n",
            "[!!]Indexing page: 2\n",
            "\n",
            "[%] Indexed 35 Images on Page 2.\n",
            "\n",
            "===============================================\n",
            "\n",
            "[%] Downloading Image #30 from http://extension.msstate.edu/sites/default/files/sg20140428_hybrid_300.jpg\n",
            "[%] File Downloaded !\n",
            "\n",
            "\n",
            "\n",
            "[%] Done. Downloaded 30 images.\n"
          ]
        }
      ]
    },
    {
      "cell_type": "code",
      "source": [
        "downloader.download(\"Icecream Cone\",limit=30,output_dir=\"images\",adult_filter_off=True)"
      ],
      "metadata": {
        "colab": {
          "base_uri": "https://localhost:8080/"
        },
        "id": "ToqSgBunrppR",
        "outputId": "0e39bc76-2bfd-4dc1-de48-d808a57c6b34"
      },
      "execution_count": 9,
      "outputs": [
        {
          "output_type": "stream",
          "name": "stdout",
          "text": [
            "[%] Downloading Images to /content/images/Icecream Cone\n",
            "\n",
            "\n",
            "[!!]Indexing page: 1\n",
            "\n",
            "[%] Indexed 30 Images on Page 1.\n",
            "\n",
            "===============================================\n",
            "\n",
            "[%] Downloading Image #1 from https://cmkt-image-prd.freetls.fastly.net/0.1.0/ps/4363477/1820/2515/m1/fpnw/wm1/yopkn719kfmeteuskryzlttgadzrpqdejyql6byzkq5mti1y23tyfxcpvdhnrkqm-.jpg?1524740440&amp;s=5d2b4ad5906083aaa5736689141dfead\n",
            "[!] Issue getting: https://cmkt-image-prd.freetls.fastly.net/0.1.0/ps/4363477/1820/2515/m1/fpnw/wm1/yopkn719kfmeteuskryzlttgadzrpqdejyql6byzkq5mti1y23tyfxcpvdhnrkqm-.jpg?1524740440&amp;s=5d2b4ad5906083aaa5736689141dfead\n",
            "[!] Error:: HTTP Error 404: Not Found\n",
            "[%] Downloading Image #1 from https://purepng.com/public/uploads/large/chocolate-ice-cream-cone-lwb.png\n",
            "[%] File Downloaded !\n",
            "\n",
            "[%] Downloading Image #2 from https://img-new.cgtrader.com/items/2362166/3658d8fdbc/choco-ice-cream-cone-3d-model-low-poly-obj-fbx-ma.jpg\n",
            "[%] File Downloaded !\n",
            "\n",
            "[%] Downloading Image #3 from https://static.fanpage.it/wp-content/uploads/sites/22/2018/07/coni.jpg\n",
            "[%] File Downloaded !\n",
            "\n",
            "[%] Downloading Image #4 from http://parkerproducts.com/wp-content/uploads/2017/11/plum_streusel_ice_cream.jpg\n",
            "[%] File Downloaded !\n",
            "\n",
            "[%] Downloading Image #5 from https://wallpapercave.com/wp/wp8475993.jpg\n",
            "[%] File Downloaded !\n",
            "\n",
            "[%] Downloading Image #6 from https://thekingsbay.com/wp-content/uploads/2019/08/979acdf4-eabc-5136-9ae3-bdb58ad67937.jpg\n",
            "[%] File Downloaded !\n",
            "\n",
            "[%] Downloading Image #7 from http://www.camdenac.com/wp-content/uploads/2017/05/7-scoop-ice-cream-cone.jpg\n",
            "[%] File Downloaded !\n",
            "\n",
            "[%] Downloading Image #8 from https://purepng.com/public/uploads/medium/chocolate-ice-cream-cone-nzm.png\n",
            "[%] File Downloaded !\n",
            "\n",
            "[%] Downloading Image #9 from https://shout.sg/wp-content/uploads/2018/08/McDonalds-Sweet-Corn-Cone2.jpeg\n",
            "[%] File Downloaded !\n",
            "\n",
            "[%] Downloading Image #10 from https://shout.sg/wp-content/uploads/2020/03/photo_2020-03-16-15.01.25.jpeg\n",
            "[%] File Downloaded !\n",
            "\n",
            "[%] Downloading Image #11 from https://mymodernmet.com/wp/wp-content/uploads/2017/04/black-cone-15.jpg\n",
            "[%] File Downloaded !\n",
            "\n",
            "[%] Downloading Image #12 from https://www.webstaurantstore.com/images/products/extra_large/67189/1915151.jpg\n",
            "[%] File Downloaded !\n",
            "\n",
            "[%] Downloading Image #13 from https://cmkt-image-prd.freetls.fastly.net/0.1.0/ps/6764199/1820/2513/m1/fpnw/wm1/sktcxnzidikme27mmrf4adkfk0cdxeuiwohfkc0wapszykzutcv9wqttbdonqiwt-.jpg?1564663010&amp;s=01941ff405abf215d3c0ee7c7fe7077a\n",
            "[!] Issue getting: https://cmkt-image-prd.freetls.fastly.net/0.1.0/ps/6764199/1820/2513/m1/fpnw/wm1/sktcxnzidikme27mmrf4adkfk0cdxeuiwohfkc0wapszykzutcv9wqttbdonqiwt-.jpg?1564663010&amp;s=01941ff405abf215d3c0ee7c7fe7077a\n",
            "[!] Error:: HTTP Error 404: Not Found\n",
            "[%] Downloading Image #13 from https://www.webstaurantstore.com/images/products/extra_large/123848/944582.jpg\n",
            "[%] File Downloaded !\n",
            "\n",
            "[%] Downloading Image #14 from https://www.liberaldictionary.com/wp-content/uploads/2019/02/ice-cream-cone-5456.jpg\n",
            "[!] Issue getting: https://www.liberaldictionary.com/wp-content/uploads/2019/02/ice-cream-cone-5456.jpg\n",
            "[!] Error:: <urlopen error [Errno -3] Temporary failure in name resolution>\n",
            "[%] Downloading Image #14 from https://cmkt-image-prd.freetls.fastly.net/0.1.0/ps/4054482/1820/2468/m1/fpnw/wm1/g9qcfn1eogzmyxqptmbgajivooyay0wghb2rzkrqoe28bvtq5xngd5ywhqlu47j3-.jpg?1519493224&amp;s=4fe864794717e7aa383bf78a5762b68e\n",
            "[!] Issue getting: https://cmkt-image-prd.freetls.fastly.net/0.1.0/ps/4054482/1820/2468/m1/fpnw/wm1/g9qcfn1eogzmyxqptmbgajivooyay0wghb2rzkrqoe28bvtq5xngd5ywhqlu47j3-.jpg?1519493224&amp;s=4fe864794717e7aa383bf78a5762b68e\n",
            "[!] Error:: HTTP Error 404: Not Found\n",
            "[%] Downloading Image #14 from https://cmkt-image-prd.global.ssl.fastly.net/0.1.0/ps/4054485/1820/2315/m1/fpnw/wm1/tyij8c12olpmxqhrslwnaf4jtiknrdxpookznyxeo8knjgwweioczmz8xuuwai3d-.jpg?1519493305&amp;s=f611347a7fcd6e038ee7011b534a3760\n",
            "[!] Issue getting: https://cmkt-image-prd.global.ssl.fastly.net/0.1.0/ps/4054485/1820/2315/m1/fpnw/wm1/tyij8c12olpmxqhrslwnaf4jtiknrdxpookznyxeo8knjgwweioczmz8xuuwai3d-.jpg?1519493305&amp;s=f611347a7fcd6e038ee7011b534a3760\n",
            "[!] Error:: HTTP Error 404: Not Found\n",
            "[%] Downloading Image #14 from https://images.unsplash.com/photo-1504050502639-3d3c3f6266cd?ixlib=rb-1.2.1&amp;ixid=eyJhcHBfaWQiOjEyMDd9&amp;w=1000&amp;q=80\n",
            "[%] File Downloaded !\n",
            "\n",
            "[%] Downloading Image #15 from https://okcredit-blog-images-prod.storage.googleapis.com/2021/03/Ice-Cream-Cones2--1-.jpg\n",
            "[%] File Downloaded !\n",
            "\n",
            "[%] Downloading Image #16 from https://cdn.wallpapersafari.com/93/56/xMtDkA.jpg\n",
            "[%] File Downloaded !\n",
            "\n",
            "[%] Downloading Image #17 from https://images.squarespace-cdn.com/content/v1/543fec0fe4b04bbe6d9f983a/1584649336334-B2B5KLBJM837FQYAT4O1/ke17ZwdGBToddI8pDm48kIS3T9PLa7izaTe_un0SNGB7gQa3H78H3Y0txjaiv_0fDoOvxcdMmMKkDsyUqMSsMWxHk725yiiHCCLfrh8O1z4YTzHvnKhyp6Da-NYroOW3ZGjoBKy3azqku80C789l0scl71iiVnMuLeEyTFSXT3ouFc_W3R7VZUOZObfA-Vm9JEqcDdKiyk45hMy-e3_e0w/sugar_cone_2500px.jpg\n",
            "[%] File Downloaded !\n",
            "\n",
            "[%] Downloading Image #18 from http://3.bp.blogspot.com/-93_fBMbStxA/ToEGcFNcz3I/AAAAAAAAAcU/JVXx_HmFLfo/s1600/IMG_3500.jpg\n",
            "[%] File Downloaded !\n",
            "\n",
            "[%] Downloading Image #19 from https://c.pxhere.com/photos/d2/4c/blur_close_up_cold_colorful_colourful_cone_delicious_depth_of_field-1554655.jpg!d\n",
            "[%] File Downloaded !\n",
            "\n",
            "[%] Downloading Image #20 from https://www.webstaurantstore.com/images/products/extra_large/123848/1914523.jpg\n",
            "[%] File Downloaded !\n",
            "\n",
            "[%] Downloading Image #21 from http://4.bp.blogspot.com/-x8Vj3F7YuVE/UTYvNNnZ0oI/AAAAAAAACIs/jW36NrdxWYo/s1600/oreo+ice+cream+cones+fredericks+dairies+2.JPG\n",
            "[%] File Downloaded !\n",
            "\n",
            "[%] Downloading Image #22 from https://mir-s3-cdn-cf.behance.net/project_modules/1400/619b4626460315.5635582e7e0a4.jpg\n",
            "[Error]Invalid image, not saving https://mir-s3-cdn-cf.behance.net/project_modules/1400/619b4626460315.5635582e7e0a4.jpg\n",
            "\n",
            "[!] Issue getting: https://mir-s3-cdn-cf.behance.net/project_modules/1400/619b4626460315.5635582e7e0a4.jpg\n",
            "[!] Error:: Invalid image, not saving https://mir-s3-cdn-cf.behance.net/project_modules/1400/619b4626460315.5635582e7e0a4.jpg\n",
            "\n",
            "[%] Downloading Image #22 from https://thekingsbay.com/wp-content/uploads/2020/06/21ccbe66-ac17-5daa-a323-6cc508c0b5e7-2048x2048.jpg\n",
            "[%] File Downloaded !\n",
            "\n",
            "[%] Downloading Image #23 from https://www.freepngimg.com/thumb/ice_cream/25344-5-ice-cream-cone-transparent-background.png\n",
            "[%] File Downloaded !\n",
            "\n",
            "[%] Downloading Image #24 from https://www.southernkissed.com/wp-content/uploads/2016/07/Cone-with-Ice-Cream.jpg\n",
            "[%] File Downloaded !\n",
            "\n",
            "\n",
            "\n",
            "[!!]Indexing page: 2\n",
            "\n",
            "[%] Indexed 35 Images on Page 2.\n",
            "\n",
            "===============================================\n",
            "\n",
            "[%] Downloading Image #25 from https://upload.wikimedia.org/wikipedia/commons/d/da/Strawberry_ice_cream_cone_(5076899310).jpg\n",
            "[%] File Downloaded !\n",
            "\n",
            "[%] Downloading Image #26 from https://thekingsbay.com/wp-content/uploads/2020/06/14c0670c-893d-538a-9a15-b65cf92995c4.jpg\n",
            "[%] File Downloaded !\n",
            "\n",
            "[%] Downloading Image #27 from http://www.webstaurantstore.com/images/products/extra_large/7856/507519.jpg\n",
            "[%] File Downloaded !\n",
            "\n",
            "[%] Downloading Image #28 from https://www.makelifelovely.com/wp-content/uploads/2016/06/Fruity-Pebbles-Ice-Cream-Cone-Treats-1.jpg\n",
            "[%] File Downloaded !\n",
            "\n",
            "[%] Downloading Image #29 from https://freepngimg.com/thumb/ice_cream/25320-2-ice-cream-cone-image.png\n",
            "[%] File Downloaded !\n",
            "\n",
            "\n",
            "\n",
            "[!!]Indexing page: 3\n",
            "\n",
            "[%] Indexed 30 Images on Page 3.\n",
            "\n",
            "===============================================\n",
            "\n",
            "[%] Downloading Image #30 from http://www.pxleyes.com/images/contests/ice-cream-cone/fullsize/sourceimage.jpg\n",
            "[%] File Downloaded !\n",
            "\n",
            "\n",
            "\n",
            "[%] Done. Downloaded 30 images.\n"
          ]
        }
      ]
    },
    {
      "cell_type": "code",
      "source": [
        "# Preprocessing\n",
        "# 1. resize 2. flatten\n",
        "import os\n",
        "import matplotlib.pyplot as plt\n",
        "import numpy as np\n",
        "from skimage.io import imread\n",
        "from skimage.transform import resize\n",
        "\n",
        "data_dir='/content/images'\n",
        "categories = ['Bikes','Icecream Cone','Pretty Sunflower','Roses']\n",
        "\n",
        "flat_data=[]\n",
        "target=[]\n",
        "\n",
        "for i in categories:\n",
        "  class_num=categories.index(i) #Label Encoding\n",
        "  path=os.path.join(data_dir,i) # create path to use all images\n",
        "  for img in os.listdir(path):\n",
        "    img_array=imread(os.path.join(path,img))\n",
        "    # print(img_array)\n",
        "    img_resized=resize(img_array,(150,150,3))\n",
        "    flat_data.append(img_resized.flatten())\n",
        "    target.append(class_num)\n",
        "  \n",
        "flat_data=np.array(flat_data)\n",
        "target=np.array(target)\n",
        "\n",
        "  \n"
      ],
      "metadata": {
        "id": "3sfWWhzasFEL"
      },
      "execution_count": 35,
      "outputs": []
    },
    {
      "cell_type": "code",
      "source": [
        "len(flat_data)"
      ],
      "metadata": {
        "colab": {
          "base_uri": "https://localhost:8080/"
        },
        "id": "JZWAUiUoQKth",
        "outputId": "39ddf812-539f-4ecb-92c7-1ca444f0a67f"
      },
      "execution_count": 36,
      "outputs": [
        {
          "output_type": "execute_result",
          "data": {
            "text/plain": [
              "120"
            ]
          },
          "metadata": {},
          "execution_count": 36
        }
      ]
    },
    {
      "cell_type": "code",
      "source": [
        "len(target)"
      ],
      "metadata": {
        "colab": {
          "base_uri": "https://localhost:8080/"
        },
        "id": "Myh_CjHHXvF9",
        "outputId": "0901e33a-cb7e-4950-bf1a-29c8a506f82f"
      },
      "execution_count": 37,
      "outputs": [
        {
          "output_type": "execute_result",
          "data": {
            "text/plain": [
              "120"
            ]
          },
          "metadata": {},
          "execution_count": 37
        }
      ]
    },
    {
      "cell_type": "code",
      "source": [
        "np.unique(target)"
      ],
      "metadata": {
        "colab": {
          "base_uri": "https://localhost:8080/"
        },
        "id": "xJYewVwNX1v0",
        "outputId": "618df83e-2a35-42f8-cfdd-5bbe6aad53ab"
      },
      "execution_count": 38,
      "outputs": [
        {
          "output_type": "execute_result",
          "data": {
            "text/plain": [
              "array([0, 1, 2, 3])"
            ]
          },
          "metadata": {},
          "execution_count": 38
        }
      ]
    },
    {
      "cell_type": "code",
      "source": [
        "# splitting the data into training and testing\n",
        "\n",
        "from sklearn.model_selection import train_test_split\n",
        "x_train,x_test,y_train,y_test=train_test_split(flat_data,target,test_size=0.3,random_state=3)\n"
      ],
      "metadata": {
        "id": "rwiw17GbYfyX"
      },
      "execution_count": 39,
      "outputs": []
    },
    {
      "cell_type": "code",
      "source": [
        "# we will use SVM classifier\n",
        "from sklearn.model_selection import GridSearchCV\n",
        "from sklearn import svm\n",
        "param_grid = [\n",
        "              {'C':[1,10,100,1000],'kernel':['linear']},\n",
        "              {'C':[1,10,100,1000],'gamma':[0.001,0.0001],'kernel':['rbf']}\n",
        "]\n",
        "svc = svm.SVC(probability=True)\n",
        "clf= GridSearchCV(svc,param_grid)\n",
        "clf.fit(x_train,y_train)"
      ],
      "metadata": {
        "colab": {
          "base_uri": "https://localhost:8080/"
        },
        "id": "34IUXRhhZW1t",
        "outputId": "78005e7c-6327-40b4-b3bc-82bf1c870b99"
      },
      "execution_count": 40,
      "outputs": [
        {
          "output_type": "execute_result",
          "data": {
            "text/plain": [
              "GridSearchCV(estimator=SVC(probability=True),\n",
              "             param_grid=[{'C': [1, 10, 100, 1000], 'kernel': ['linear']},\n",
              "                         {'C': [1, 10, 100, 1000], 'gamma': [0.001, 0.0001],\n",
              "                          'kernel': ['rbf']}])"
            ]
          },
          "metadata": {},
          "execution_count": 40
        }
      ]
    },
    {
      "cell_type": "code",
      "source": [
        "y_pred = clf.predict(x_test)\n",
        "y_pred"
      ],
      "metadata": {
        "colab": {
          "base_uri": "https://localhost:8080/"
        },
        "id": "ccSJTsHwsfFw",
        "outputId": "ebac0248-bdd0-489f-ea3d-78dec3f04f30"
      },
      "execution_count": 41,
      "outputs": [
        {
          "output_type": "execute_result",
          "data": {
            "text/plain": [
              "array([1, 2, 0, 3, 3, 1, 1, 0, 3, 0, 1, 1, 0, 2, 1, 0, 1, 3, 3, 0, 0, 3,\n",
              "       1, 3, 2, 2, 3, 2, 3, 0, 0, 2, 2, 3, 2, 3])"
            ]
          },
          "metadata": {},
          "execution_count": 41
        }
      ]
    },
    {
      "cell_type": "code",
      "source": [
        "from sklearn.metrics import accuracy_score,confusion_matrix"
      ],
      "metadata": {
        "id": "pGY5b5611Zb-"
      },
      "execution_count": 42,
      "outputs": []
    },
    {
      "cell_type": "code",
      "source": [
        "accuracy_score(y_pred,y_test)"
      ],
      "metadata": {
        "colab": {
          "base_uri": "https://localhost:8080/"
        },
        "id": "gGfgUOVH1z2e",
        "outputId": "8f132ed1-fee0-4b0b-9c9f-37b5447f34c8"
      },
      "execution_count": 43,
      "outputs": [
        {
          "output_type": "execute_result",
          "data": {
            "text/plain": [
              "0.75"
            ]
          },
          "metadata": {},
          "execution_count": 43
        }
      ]
    },
    {
      "cell_type": "code",
      "source": [
        "y_test"
      ],
      "metadata": {
        "colab": {
          "base_uri": "https://localhost:8080/"
        },
        "id": "sc5AfYTK149Z",
        "outputId": "1798d27c-fee4-42d7-d48c-bba440bdcde3"
      },
      "execution_count": 44,
      "outputs": [
        {
          "output_type": "execute_result",
          "data": {
            "text/plain": [
              "array([3, 3, 0, 3, 3, 0, 1, 0, 3, 0, 3, 1, 3, 2, 1, 0, 1, 3, 1, 0, 0, 3,\n",
              "       1, 3, 2, 2, 1, 2, 3, 0, 0, 2, 0, 3, 2, 2])"
            ]
          },
          "metadata": {},
          "execution_count": 44
        }
      ]
    },
    {
      "cell_type": "code",
      "source": [
        "confusion_matrix(y_pred,y_test)"
      ],
      "metadata": {
        "colab": {
          "base_uri": "https://localhost:8080/"
        },
        "id": "F0DSr2eX2CtO",
        "outputId": "059e4bef-67b7-4f17-98d7-35121acb1102"
      },
      "execution_count": 45,
      "outputs": [
        {
          "output_type": "execute_result",
          "data": {
            "text/plain": [
              "array([[8, 0, 0, 1],\n",
              "       [1, 5, 0, 2],\n",
              "       [1, 0, 6, 1],\n",
              "       [0, 2, 1, 8]])"
            ]
          },
          "metadata": {},
          "execution_count": 45
        }
      ]
    },
    {
      "cell_type": "code",
      "source": [
        "# Testing a brand new image\n",
        "new_data=[]\n",
        "url=input('Enter your URL')\n",
        "img=imread(url)\n",
        "img_resized=resize(img,(150,150,3))\n",
        "new_data.append(img_resized.flatten())\n",
        "new_data=np.array(new_data)\n",
        "print(img.shape)\n",
        "y_out=clf.predict(new_data)\n",
        "print(y_out)\n",
        "print(categories[y_out[0]])"
      ],
      "metadata": {
        "colab": {
          "base_uri": "https://localhost:8080/"
        },
        "id": "p9S5L_VN2q7W",
        "outputId": "18e9aba6-df62-44e9-cd35-f7286533e1dc"
      },
      "execution_count": 46,
      "outputs": [
        {
          "output_type": "stream",
          "name": "stdout",
          "text": [
            "Enter your URLhttps://upload.wikimedia.org/wikipedia/commons/thumb/d/da/Strawberry_ice_cream_cone_%285076899310%29.jpg/640px-Strawberry_ice_cream_cone_%285076899310%29.jpg\n",
            "(962, 640, 3)\n",
            "[1]\n",
            "Icecream Cone\n"
          ]
        }
      ]
    },
    {
      "cell_type": "code",
      "source": [
        "print(categories)"
      ],
      "metadata": {
        "colab": {
          "base_uri": "https://localhost:8080/"
        },
        "id": "sGHIjybt4Zhp",
        "outputId": "9869da77-7686-411d-9c5c-e33fb4812afe"
      },
      "execution_count": 48,
      "outputs": [
        {
          "output_type": "stream",
          "name": "stdout",
          "text": [
            "['Bikes', 'Icecream Cone', 'Pretty Sunflower', 'Roses']\n"
          ]
        }
      ]
    }
  ]
}